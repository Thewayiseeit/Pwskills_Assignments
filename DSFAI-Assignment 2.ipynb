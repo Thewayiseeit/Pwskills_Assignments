{
 "cells": [
  {
   "cell_type": "code",
   "execution_count": 2,
   "metadata": {},
   "outputs": [
    {
     "name": "stdout",
     "output_type": "stream",
     "text": [
      "Sum: 15\n",
      "Difference: 5\n",
      "Product: 50\n",
      "Quotient: 2.0\n"
     ]
    }
   ],
   "source": [
    "##, Calculate the sum, difference, product, and quotient of two numbers.\n",
    "# Define the two numbers\n",
    "num1 = 10\n",
    "num2 = 5\n",
    "\n",
    "# Calculate the sum\n",
    "sum_result = num1 + num2\n",
    "print(\"Sum:\", sum_result)\n",
    "\n",
    "# Calculate the difference\n",
    "difference_result = num1 - num2\n",
    "print(\"Difference:\", difference_result)\n",
    "\n",
    "# Calculate the product\n",
    "product_result = num1 * num2\n",
    "print(\"Product:\", product_result)\n",
    "\n",
    "# Calculate the quotient\n",
    "quotient_result = num1 / num2\n",
    "print(\"Quotient:\", quotient_result)\n"
   ]
  },
  {
   "cell_type": "code",
   "execution_count": 6,
   "metadata": {},
   "outputs": [
    {
     "name": "stdout",
     "output_type": "stream",
     "text": [
      "After addition: 15\n",
      "After subtraction: 12\n",
      "After multiplication: 24\n",
      "After division: 6.0\n"
     ]
    }
   ],
   "source": [
    "#Perform various assignment operations on a variable.\n",
    "# Define a variable\n",
    "x = 10\n",
    "\n",
    "# Addition assignment \n",
    "x += 5  \n",
    "print(\"After addition:\", x)  \n",
    "\n",
    "# Subtraction assignment \n",
    "x -= 3  \n",
    "print(\"After subtraction:\", x)  \n",
    "\n",
    "# Multiplication assignment \n",
    "x *= 2  \n",
    "print(\"After multiplication:\", x)  \n",
    "\n",
    "# Division assignment \n",
    "x /= 4  \n",
    "print(\"After division:\", x)  \n"
   ]
  },
  {
   "cell_type": "code",
   "execution_count": 8,
   "metadata": {},
   "outputs": [
    {
     "name": "stdout",
     "output_type": "stream",
     "text": [
      "10 is greater than 5\n"
     ]
    }
   ],
   "source": [
    "#Compare two numbers and print the results.\n",
    "# Define the two numbers\n",
    "num1 = 10\n",
    "num2 = 5\n",
    "\n",
    "# Compare the numbers\n",
    "if num1 == num2:\n",
    "    print(f\"{num1} is equal to {num2}\")\n",
    "elif num1 > num2:\n",
    "    print(f\"{num1} is greater than {num2}\")\n",
    "else:\n",
    "    print(f\"{num1} is less than {num2}\")\n"
   ]
  },
  {
   "cell_type": "code",
   "execution_count": 12,
   "metadata": {},
   "outputs": [
    {
     "name": "stdout",
     "output_type": "stream",
     "text": [
      "x is less than y and y is less than z\n",
      "Either x is equal to 5 or y is equal to 5\n",
      "z is greater than x\n"
     ]
    }
   ],
   "source": [
    "#Check conditions using logical operators.\n",
    "# Define variables\n",
    "x = 5\n",
    "y = 10\n",
    "z = 15\n",
    "\n",
    "# Check conditions using logical operators\n",
    "if x < y and y < z:\n",
    "    print(\"x is less than y and y is less than z\")\n",
    "\n",
    "if x == 5 or y == 5:\n",
    "    print(\"Either x is equal to 5 or y is equal to 5\")\n",
    "\n",
    "if not (z < x):\n",
    "    print(\"z is greater than x\")\n"
   ]
  },
  {
   "cell_type": "code",
   "execution_count": 14,
   "metadata": {},
   "outputs": [
    {
     "name": "stdout",
     "output_type": "stream",
     "text": [
      "x and y are different objects\n",
      "x and z are the same object\n"
     ]
    }
   ],
   "source": [
    "#Check the identity of variables.\n",
    "# Define variables\n",
    "x = [1, 2, 3]\n",
    "y = [1, 2, 3]\n",
    "z = x\n",
    "\n",
    "# Check identity using the is operator\n",
    "if x is y:\n",
    "    print(\"x and y are the same object\")\n",
    "else:\n",
    "    print(\"x and y are different objects\")\n",
    "\n",
    "if x is z:\n",
    "    print(\"x and z are the same object\")\n",
    "else:\n",
    "    print(\"x and z are different objects\")\n"
   ]
  },
  {
   "cell_type": "code",
   "execution_count": 15,
   "metadata": {},
   "outputs": [
    {
     "name": "stdout",
     "output_type": "stream",
     "text": [
      "Bitwise AND: 2\n",
      "Bitwise OR: 14\n",
      "Bitwise XOR: 12\n",
      "Bitwise NOT of num1: -11\n",
      "Left shift of num1 by 1: 20\n",
      "Right shift of num1 by 1: 5\n"
     ]
    }
   ],
   "source": [
    "# Define two integers\n",
    "num1 = 10  # binary: 1010\n",
    "num2 = 6   # binary: 0110\n",
    "\n",
    "# Bitwise AND\n",
    "result_and = num1 & num2\n",
    "print(\"Bitwise AND:\", result_and)  # Output: 2 (binary: 0010)\n",
    "\n",
    "# Bitwise OR\n",
    "result_or = num1 | num2\n",
    "print(\"Bitwise OR:\", result_or)    # Output: 14 (binary: 1110)\n",
    "\n",
    "# Bitwise XOR\n",
    "result_xor = num1 ^ num2\n",
    "print(\"Bitwise XOR:\", result_xor)  # Output: 12 (binary: 1100)\n",
    "\n",
    "# Bitwise NOT (Unary operation)\n",
    "result_not_num1 = ~num1\n",
    "print(\"Bitwise NOT of num1:\", result_not_num1)  # Output: -11 (binary: -1011)\n",
    "\n",
    "# Left Shift\n",
    "result_left_shift = num1 << 1\n",
    "print(\"Left shift of num1 by 1:\", result_left_shift)  # Output: 20 (binary: 10100)\n",
    "\n",
    "# Right Shift\n",
    "result_right_shift = num1 >> 1\n",
    "print(\"Right shift of num1 by 1:\", result_right_shift)  # Output: 5 (binary: 0101)\n"
   ]
  },
  {
   "cell_type": "code",
   "execution_count": 17,
   "metadata": {},
   "outputs": [
    {
     "name": "stdout",
     "output_type": "stream",
     "text": [
      "Original number: 10\n",
      "Changed number (with sign changed): -10\n"
     ]
    }
   ],
   "source": [
    "#Use unary operators to change the sign of a number.\n",
    "# Define a number\n",
    "number = 10\n",
    "\n",
    "# Change the sign of the number\n",
    "changed_number = -number\n",
    "\n",
    "print(\"Original number:\", number)\n",
    "print(\"Changed number (with sign changed):\", changed_number)\n"
   ]
  },
  {
   "cell_type": "code",
   "execution_count": 18,
   "metadata": {},
   "outputs": [
    {
     "name": "stdout",
     "output_type": "stream",
     "text": [
      "x is greater\n"
     ]
    }
   ],
   "source": [
    "#Use the ternary operator to assign values based on conditions.\n",
    "# Define a condition\n",
    "x = 10\n",
    "y = 5\n",
    "\n",
    "# Assign values based on the condition\n",
    "result = \"x is greater\" if x > y else \"y is greater\"\n",
    "\n",
    "print(result)\n"
   ]
  },
  {
   "cell_type": "code",
   "execution_count": null,
   "metadata": {},
   "outputs": [],
   "source": []
  }
 ],
 "metadata": {
  "kernelspec": {
   "display_name": "Python 3.8.10 64-bit",
   "language": "python",
   "name": "python3"
  },
  "language_info": {
   "codemirror_mode": {
    "name": "ipython",
    "version": 3
   },
   "file_extension": ".py",
   "mimetype": "text/x-python",
   "name": "python",
   "nbconvert_exporter": "python",
   "pygments_lexer": "ipython3",
   "version": "3.8.10"
  },
  "orig_nbformat": 4,
  "vscode": {
   "interpreter": {
    "hash": "e7370f93d1d0cde622a1f8e1c04877d8463912d04d973331ad4851f04de6915a"
   }
  }
 },
 "nbformat": 4,
 "nbformat_minor": 2
}
